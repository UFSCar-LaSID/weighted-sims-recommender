{
 "cells": [
  {
   "cell_type": "code",
   "execution_count": 1,
   "id": "0e80b95c",
   "metadata": {},
   "outputs": [],
   "source": [
    "import numpy as np\n",
    "\n",
    "import pandas as pd\n",
    "pd.options.plotting.backend = \"plotly\"\n",
    "\n",
    "import os\n",
    "import plotly.express as px\n",
    "from plotly.subplots import make_subplots\n",
    "import plotly.graph_objects as go\n",
    "\n",
    "import warnings\n",
    "warnings.filterwarnings('once')"
   ]
  },
  {
   "cell_type": "markdown",
   "id": "0533e782",
   "metadata": {},
   "source": [
    "# Processamento e seleção da melhor coluna"
   ]
  },
  {
   "cell_type": "code",
   "execution_count": 3,
   "id": "98bcbbdb",
   "metadata": {},
   "outputs": [],
   "source": [
    "best_column = 'NDCG@10'\n",
    "metric_type = [\"Prec\", \"Rec\", \"F1_Score\", \"Hit_Rate\", \"NDCG\"]\n",
    "top_k = [3, 5, 10, 20]\n",
    "\n",
    "main_path = \"../results/metrics\"\n",
    "main_file = os.listdir(main_path)\n",
    "\n",
    "dataframes = []\n",
    "\n",
    "for dataset_name in main_file:\n",
    "    \n",
    "    recommender_files = os.listdir(os.path.join(main_path, dataset_name))\n",
    "    for recommender_name in recommender_files:\n",
    "        \n",
    "        metrics_path = os.path.join(\"..\", \"results\", \"metrics\", dataset_name, recommender_name, \"metrics.csv\")\n",
    "        metrics_aux = pd.read_csv(metrics_path, sep=';')\n",
    "        \n",
    "        metrics_aux.insert(0,'Recommender','')\n",
    "        metrics_aux['Recommender'] = recommender_name\n",
    "\n",
    "        metrics_aux.insert(0,'Dataset','')\n",
    "        metrics_aux['Dataset'] = dataset_name\n",
    "        \n",
    "        dataframes.append(metrics_aux)\n",
    "                \n",
    "metrics_df = pd.concat(dataframes, ignore_index=True)\n",
    "\n",
    "#if (best_column == 'Mean'):\n",
    "#    metrics_df.insert(3,'Mean', metrics_df.mean(axis=1))\n",
    "    \n",
    "if best_column in metrics_df.columns:\n",
    "    saida = metrics_df.loc[metrics_df.reset_index().groupby(['Dataset', 'Recommender'])[best_column].idxmax()].reset_index(drop=True)\n",
    "else:\n",
    "    raise Exception(\"Coluna '\" + best_column + \"' não encontrada\")"
   ]
  },
  {
   "cell_type": "markdown",
   "id": "bd1e3711",
   "metadata": {},
   "source": [
    "# Geração de gráficos"
   ]
  },
  {
   "cell_type": "code",
   "execution_count": 4,
   "id": "19431ea5",
   "metadata": {},
   "outputs": [
    {
     "name": "stdout",
     "output_type": "stream",
     "text": [
      "====================================================================================================\n",
      "RetailRocket-Transactions\n"
     ]
    },
    {
     "data": {
      "application/vnd.plotly.v1+json": {
       "config": {
        "plotlyServerURL": "https://plot.ly"
       },
       "data": [
        {
         "marker": {
          "line": {
           "color": "black",
           "width": 0.5
          },
          "size": 7,
          "symbol": "circle"
         },
         "mode": "lines+markers",
         "name": "ALS",
         "type": "scatter",
         "x": [
          "Top 1",
          "Top 2",
          "Top 3",
          "Top 4",
          "Top 5",
          "Top 6",
          "Top 7",
          "Top 8",
          "Top 9",
          "Top 10",
          "Top 11",
          "Top 12",
          "Top 13",
          "Top 14",
          "Top 15",
          "Top 16",
          "Top 17",
          "Top 18",
          "Top 19",
          "Top 20"
         ],
         "y": [
          0.0112759643916913,
          0.0195845697329376,
          0.03026706231454,
          0.0356083086053412,
          0.0356083086053412,
          0.0385756676557863,
          0.0421364985163204,
          0.0433234421364985,
          0.0456973293768546,
          0.0474777448071216,
          0.0486646884272997,
          0.0492581602373887,
          0.0492581602373887,
          0.0504451038575667,
          0.0510385756676557,
          0.0528189910979228,
          0.0540059347181008,
          0.0540059347181008,
          0.0545994065281899,
          0.0551928783382789
         ]
        },
        {
         "marker": {
          "line": {
           "color": "black",
           "width": 0.5
          },
          "size": 7,
          "symbol": "square"
         },
         "mode": "lines+markers",
         "name": "ALS_itemSim",
         "type": "scatter",
         "x": [
          "Top 1",
          "Top 2",
          "Top 3",
          "Top 4",
          "Top 5",
          "Top 6",
          "Top 7",
          "Top 8",
          "Top 9",
          "Top 10",
          "Top 11",
          "Top 12",
          "Top 13",
          "Top 14",
          "Top 15",
          "Top 16",
          "Top 17",
          "Top 18",
          "Top 19",
          "Top 20"
         ],
         "y": [
          0.0160237388724035,
          0.0272997032640949,
          0.03026706231454,
          0.0320474777448071,
          0.0356083086053412,
          0.0403560830860534,
          0.0427299703264094,
          0.0433234421364985,
          0.0445103857566765,
          0.0486646884272997,
          0.0504451038575667,
          0.0504451038575667,
          0.0510385756676557,
          0.0540059347181008,
          0.0551928783382789,
          0.0557863501483679,
          0.056973293768546,
          0.057566765578635,
          0.058753709198813,
          0.0605341246290801
         ]
        },
        {
         "marker": {
          "line": {
           "color": "black",
           "width": 0.5
          },
          "size": 7,
          "symbol": "diamond"
         },
         "mode": "lines+markers",
         "name": "ALS_weighted",
         "type": "scatter",
         "x": [
          "Top 1",
          "Top 2",
          "Top 3",
          "Top 4",
          "Top 5",
          "Top 6",
          "Top 7",
          "Top 8",
          "Top 9",
          "Top 10",
          "Top 11",
          "Top 12",
          "Top 13",
          "Top 14",
          "Top 15",
          "Top 16",
          "Top 17",
          "Top 18",
          "Top 19",
          "Top 20"
         ],
         "y": [
          0.0213649851632047,
          0.029080118694362,
          0.0338278931750741,
          0.0403560830860534,
          0.0409495548961424,
          0.0421364985163204,
          0.0433234421364985,
          0.0451038575667655,
          0.0468842729970326,
          0.0486646884272997,
          0.0486646884272997,
          0.0486646884272997,
          0.0486646884272997,
          0.0510385756676557,
          0.0534124629080118,
          0.0551928783382789,
          0.0551928783382789,
          0.0563798219584569,
          0.0563798219584569,
          0.056973293768546
         ]
        },
        {
         "marker": {
          "line": {
           "color": "black",
           "width": 0.5
          },
          "size": 7,
          "symbol": "cross"
         },
         "mode": "lines+markers",
         "name": "BPR",
         "type": "scatter",
         "x": [
          "Top 1",
          "Top 2",
          "Top 3",
          "Top 4",
          "Top 5",
          "Top 6",
          "Top 7",
          "Top 8",
          "Top 9",
          "Top 10",
          "Top 11",
          "Top 12",
          "Top 13",
          "Top 14",
          "Top 15",
          "Top 16",
          "Top 17",
          "Top 18",
          "Top 19",
          "Top 20"
         ],
         "y": [
          0.0213649851632047,
          0.030860534124629,
          0.0362017804154302,
          0.0403560830860534,
          0.0421364985163204,
          0.0439169139465875,
          0.0462908011869436,
          0.0462908011869436,
          0.0498516320474777,
          0.0516320474777448,
          0.0522255192878338,
          0.0534124629080118,
          0.0540059347181008,
          0.0540059347181008,
          0.0551928783382789,
          0.0551928783382789,
          0.0551928783382789,
          0.0563798219584569,
          0.056973293768546,
          0.057566765578635
         ]
        },
        {
         "marker": {
          "line": {
           "color": "black",
           "width": 0.5
          },
          "size": 7,
          "symbol": "triangle-up"
         },
         "mode": "lines+markers",
         "name": "BPR_itemSim",
         "type": "scatter",
         "x": [
          "Top 1",
          "Top 2",
          "Top 3",
          "Top 4",
          "Top 5",
          "Top 6",
          "Top 7",
          "Top 8",
          "Top 9",
          "Top 10",
          "Top 11",
          "Top 12",
          "Top 13",
          "Top 14",
          "Top 15",
          "Top 16",
          "Top 17",
          "Top 18",
          "Top 19",
          "Top 20"
         ],
         "y": [
          0.0243323442136498,
          0.029080118694362,
          0.0362017804154302,
          0.0403560830860534,
          0.0456973293768546,
          0.0462908011869436,
          0.0468842729970326,
          0.0492581602373887,
          0.0504451038575667,
          0.0516320474777448,
          0.0522255192878338,
          0.0528189910979228,
          0.0540059347181008,
          0.056973293768546,
          0.058753709198813,
          0.0599406528189911,
          0.0611275964391691,
          0.0623145400593471,
          0.0635014836795252,
          0.0640949554896142
         ]
        }
       ],
       "layout": {
        "font": {
         "color": "black",
         "family": "Helvetica",
         "size": 12
        },
        "height": 500,
        "legend": {
         "title": {
          "text": "Recomendadores"
         }
        },
        "template": {
         "data": {
          "bar": [
           {
            "error_x": {
             "color": "#2a3f5f"
            },
            "error_y": {
             "color": "#2a3f5f"
            },
            "marker": {
             "line": {
              "color": "#E5ECF6",
              "width": 0.5
             },
             "pattern": {
              "fillmode": "overlay",
              "size": 10,
              "solidity": 0.2
             }
            },
            "type": "bar"
           }
          ],
          "barpolar": [
           {
            "marker": {
             "line": {
              "color": "#E5ECF6",
              "width": 0.5
             },
             "pattern": {
              "fillmode": "overlay",
              "size": 10,
              "solidity": 0.2
             }
            },
            "type": "barpolar"
           }
          ],
          "carpet": [
           {
            "aaxis": {
             "endlinecolor": "#2a3f5f",
             "gridcolor": "white",
             "linecolor": "white",
             "minorgridcolor": "white",
             "startlinecolor": "#2a3f5f"
            },
            "baxis": {
             "endlinecolor": "#2a3f5f",
             "gridcolor": "white",
             "linecolor": "white",
             "minorgridcolor": "white",
             "startlinecolor": "#2a3f5f"
            },
            "type": "carpet"
           }
          ],
          "choropleth": [
           {
            "colorbar": {
             "outlinewidth": 0,
             "ticks": ""
            },
            "type": "choropleth"
           }
          ],
          "contour": [
           {
            "colorbar": {
             "outlinewidth": 0,
             "ticks": ""
            },
            "colorscale": [
             [
              0,
              "#0d0887"
             ],
             [
              0.1111111111111111,
              "#46039f"
             ],
             [
              0.2222222222222222,
              "#7201a8"
             ],
             [
              0.3333333333333333,
              "#9c179e"
             ],
             [
              0.4444444444444444,
              "#bd3786"
             ],
             [
              0.5555555555555556,
              "#d8576b"
             ],
             [
              0.6666666666666666,
              "#ed7953"
             ],
             [
              0.7777777777777778,
              "#fb9f3a"
             ],
             [
              0.8888888888888888,
              "#fdca26"
             ],
             [
              1,
              "#f0f921"
             ]
            ],
            "type": "contour"
           }
          ],
          "contourcarpet": [
           {
            "colorbar": {
             "outlinewidth": 0,
             "ticks": ""
            },
            "type": "contourcarpet"
           }
          ],
          "heatmap": [
           {
            "colorbar": {
             "outlinewidth": 0,
             "ticks": ""
            },
            "colorscale": [
             [
              0,
              "#0d0887"
             ],
             [
              0.1111111111111111,
              "#46039f"
             ],
             [
              0.2222222222222222,
              "#7201a8"
             ],
             [
              0.3333333333333333,
              "#9c179e"
             ],
             [
              0.4444444444444444,
              "#bd3786"
             ],
             [
              0.5555555555555556,
              "#d8576b"
             ],
             [
              0.6666666666666666,
              "#ed7953"
             ],
             [
              0.7777777777777778,
              "#fb9f3a"
             ],
             [
              0.8888888888888888,
              "#fdca26"
             ],
             [
              1,
              "#f0f921"
             ]
            ],
            "type": "heatmap"
           }
          ],
          "heatmapgl": [
           {
            "colorbar": {
             "outlinewidth": 0,
             "ticks": ""
            },
            "colorscale": [
             [
              0,
              "#0d0887"
             ],
             [
              0.1111111111111111,
              "#46039f"
             ],
             [
              0.2222222222222222,
              "#7201a8"
             ],
             [
              0.3333333333333333,
              "#9c179e"
             ],
             [
              0.4444444444444444,
              "#bd3786"
             ],
             [
              0.5555555555555556,
              "#d8576b"
             ],
             [
              0.6666666666666666,
              "#ed7953"
             ],
             [
              0.7777777777777778,
              "#fb9f3a"
             ],
             [
              0.8888888888888888,
              "#fdca26"
             ],
             [
              1,
              "#f0f921"
             ]
            ],
            "type": "heatmapgl"
           }
          ],
          "histogram": [
           {
            "marker": {
             "pattern": {
              "fillmode": "overlay",
              "size": 10,
              "solidity": 0.2
             }
            },
            "type": "histogram"
           }
          ],
          "histogram2d": [
           {
            "colorbar": {
             "outlinewidth": 0,
             "ticks": ""
            },
            "colorscale": [
             [
              0,
              "#0d0887"
             ],
             [
              0.1111111111111111,
              "#46039f"
             ],
             [
              0.2222222222222222,
              "#7201a8"
             ],
             [
              0.3333333333333333,
              "#9c179e"
             ],
             [
              0.4444444444444444,
              "#bd3786"
             ],
             [
              0.5555555555555556,
              "#d8576b"
             ],
             [
              0.6666666666666666,
              "#ed7953"
             ],
             [
              0.7777777777777778,
              "#fb9f3a"
             ],
             [
              0.8888888888888888,
              "#fdca26"
             ],
             [
              1,
              "#f0f921"
             ]
            ],
            "type": "histogram2d"
           }
          ],
          "histogram2dcontour": [
           {
            "colorbar": {
             "outlinewidth": 0,
             "ticks": ""
            },
            "colorscale": [
             [
              0,
              "#0d0887"
             ],
             [
              0.1111111111111111,
              "#46039f"
             ],
             [
              0.2222222222222222,
              "#7201a8"
             ],
             [
              0.3333333333333333,
              "#9c179e"
             ],
             [
              0.4444444444444444,
              "#bd3786"
             ],
             [
              0.5555555555555556,
              "#d8576b"
             ],
             [
              0.6666666666666666,
              "#ed7953"
             ],
             [
              0.7777777777777778,
              "#fb9f3a"
             ],
             [
              0.8888888888888888,
              "#fdca26"
             ],
             [
              1,
              "#f0f921"
             ]
            ],
            "type": "histogram2dcontour"
           }
          ],
          "mesh3d": [
           {
            "colorbar": {
             "outlinewidth": 0,
             "ticks": ""
            },
            "type": "mesh3d"
           }
          ],
          "parcoords": [
           {
            "line": {
             "colorbar": {
              "outlinewidth": 0,
              "ticks": ""
             }
            },
            "type": "parcoords"
           }
          ],
          "pie": [
           {
            "automargin": true,
            "type": "pie"
           }
          ],
          "scatter": [
           {
            "fillpattern": {
             "fillmode": "overlay",
             "size": 10,
             "solidity": 0.2
            },
            "type": "scatter"
           }
          ],
          "scatter3d": [
           {
            "line": {
             "colorbar": {
              "outlinewidth": 0,
              "ticks": ""
             }
            },
            "marker": {
             "colorbar": {
              "outlinewidth": 0,
              "ticks": ""
             }
            },
            "type": "scatter3d"
           }
          ],
          "scattercarpet": [
           {
            "marker": {
             "colorbar": {
              "outlinewidth": 0,
              "ticks": ""
             }
            },
            "type": "scattercarpet"
           }
          ],
          "scattergeo": [
           {
            "marker": {
             "colorbar": {
              "outlinewidth": 0,
              "ticks": ""
             }
            },
            "type": "scattergeo"
           }
          ],
          "scattergl": [
           {
            "marker": {
             "colorbar": {
              "outlinewidth": 0,
              "ticks": ""
             }
            },
            "type": "scattergl"
           }
          ],
          "scattermapbox": [
           {
            "marker": {
             "colorbar": {
              "outlinewidth": 0,
              "ticks": ""
             }
            },
            "type": "scattermapbox"
           }
          ],
          "scatterpolar": [
           {
            "marker": {
             "colorbar": {
              "outlinewidth": 0,
              "ticks": ""
             }
            },
            "type": "scatterpolar"
           }
          ],
          "scatterpolargl": [
           {
            "marker": {
             "colorbar": {
              "outlinewidth": 0,
              "ticks": ""
             }
            },
            "type": "scatterpolargl"
           }
          ],
          "scatterternary": [
           {
            "marker": {
             "colorbar": {
              "outlinewidth": 0,
              "ticks": ""
             }
            },
            "type": "scatterternary"
           }
          ],
          "surface": [
           {
            "colorbar": {
             "outlinewidth": 0,
             "ticks": ""
            },
            "colorscale": [
             [
              0,
              "#0d0887"
             ],
             [
              0.1111111111111111,
              "#46039f"
             ],
             [
              0.2222222222222222,
              "#7201a8"
             ],
             [
              0.3333333333333333,
              "#9c179e"
             ],
             [
              0.4444444444444444,
              "#bd3786"
             ],
             [
              0.5555555555555556,
              "#d8576b"
             ],
             [
              0.6666666666666666,
              "#ed7953"
             ],
             [
              0.7777777777777778,
              "#fb9f3a"
             ],
             [
              0.8888888888888888,
              "#fdca26"
             ],
             [
              1,
              "#f0f921"
             ]
            ],
            "type": "surface"
           }
          ],
          "table": [
           {
            "cells": {
             "fill": {
              "color": "#EBF0F8"
             },
             "line": {
              "color": "white"
             }
            },
            "header": {
             "fill": {
              "color": "#C8D4E3"
             },
             "line": {
              "color": "white"
             }
            },
            "type": "table"
           }
          ]
         },
         "layout": {
          "annotationdefaults": {
           "arrowcolor": "#2a3f5f",
           "arrowhead": 0,
           "arrowwidth": 1
          },
          "autotypenumbers": "strict",
          "coloraxis": {
           "colorbar": {
            "outlinewidth": 0,
            "ticks": ""
           }
          },
          "colorscale": {
           "diverging": [
            [
             0,
             "#8e0152"
            ],
            [
             0.1,
             "#c51b7d"
            ],
            [
             0.2,
             "#de77ae"
            ],
            [
             0.3,
             "#f1b6da"
            ],
            [
             0.4,
             "#fde0ef"
            ],
            [
             0.5,
             "#f7f7f7"
            ],
            [
             0.6,
             "#e6f5d0"
            ],
            [
             0.7,
             "#b8e186"
            ],
            [
             0.8,
             "#7fbc41"
            ],
            [
             0.9,
             "#4d9221"
            ],
            [
             1,
             "#276419"
            ]
           ],
           "sequential": [
            [
             0,
             "#0d0887"
            ],
            [
             0.1111111111111111,
             "#46039f"
            ],
            [
             0.2222222222222222,
             "#7201a8"
            ],
            [
             0.3333333333333333,
             "#9c179e"
            ],
            [
             0.4444444444444444,
             "#bd3786"
            ],
            [
             0.5555555555555556,
             "#d8576b"
            ],
            [
             0.6666666666666666,
             "#ed7953"
            ],
            [
             0.7777777777777778,
             "#fb9f3a"
            ],
            [
             0.8888888888888888,
             "#fdca26"
            ],
            [
             1,
             "#f0f921"
            ]
           ],
           "sequentialminus": [
            [
             0,
             "#0d0887"
            ],
            [
             0.1111111111111111,
             "#46039f"
            ],
            [
             0.2222222222222222,
             "#7201a8"
            ],
            [
             0.3333333333333333,
             "#9c179e"
            ],
            [
             0.4444444444444444,
             "#bd3786"
            ],
            [
             0.5555555555555556,
             "#d8576b"
            ],
            [
             0.6666666666666666,
             "#ed7953"
            ],
            [
             0.7777777777777778,
             "#fb9f3a"
            ],
            [
             0.8888888888888888,
             "#fdca26"
            ],
            [
             1,
             "#f0f921"
            ]
           ]
          },
          "colorway": [
           "#636efa",
           "#EF553B",
           "#00cc96",
           "#ab63fa",
           "#FFA15A",
           "#19d3f3",
           "#FF6692",
           "#B6E880",
           "#FF97FF",
           "#FECB52"
          ],
          "font": {
           "color": "#2a3f5f"
          },
          "geo": {
           "bgcolor": "white",
           "lakecolor": "white",
           "landcolor": "#E5ECF6",
           "showlakes": true,
           "showland": true,
           "subunitcolor": "white"
          },
          "hoverlabel": {
           "align": "left"
          },
          "hovermode": "closest",
          "mapbox": {
           "style": "light"
          },
          "paper_bgcolor": "white",
          "plot_bgcolor": "#E5ECF6",
          "polar": {
           "angularaxis": {
            "gridcolor": "white",
            "linecolor": "white",
            "ticks": ""
           },
           "bgcolor": "#E5ECF6",
           "radialaxis": {
            "gridcolor": "white",
            "linecolor": "white",
            "ticks": ""
           }
          },
          "scene": {
           "xaxis": {
            "backgroundcolor": "#E5ECF6",
            "gridcolor": "white",
            "gridwidth": 2,
            "linecolor": "white",
            "showbackground": true,
            "ticks": "",
            "zerolinecolor": "white"
           },
           "yaxis": {
            "backgroundcolor": "#E5ECF6",
            "gridcolor": "white",
            "gridwidth": 2,
            "linecolor": "white",
            "showbackground": true,
            "ticks": "",
            "zerolinecolor": "white"
           },
           "zaxis": {
            "backgroundcolor": "#E5ECF6",
            "gridcolor": "white",
            "gridwidth": 2,
            "linecolor": "white",
            "showbackground": true,
            "ticks": "",
            "zerolinecolor": "white"
           }
          },
          "shapedefaults": {
           "line": {
            "color": "#2a3f5f"
           }
          },
          "ternary": {
           "aaxis": {
            "gridcolor": "white",
            "linecolor": "white",
            "ticks": ""
           },
           "baxis": {
            "gridcolor": "white",
            "linecolor": "white",
            "ticks": ""
           },
           "bgcolor": "#E5ECF6",
           "caxis": {
            "gridcolor": "white",
            "linecolor": "white",
            "ticks": ""
           }
          },
          "title": {
           "x": 0.05
          },
          "xaxis": {
           "automargin": true,
           "gridcolor": "white",
           "linecolor": "white",
           "ticks": "",
           "title": {
            "standoff": 15
           },
           "zerolinecolor": "white",
           "zerolinewidth": 2
          },
          "yaxis": {
           "automargin": true,
           "gridcolor": "white",
           "linecolor": "white",
           "ticks": "",
           "title": {
            "standoff": 15
           },
           "zerolinecolor": "white",
           "zerolinewidth": 2
          }
         }
        },
        "title": {
         "text": "Hit_Rate"
        },
        "width": 800,
        "xaxis": {
         "title": {
          "text": ""
         }
        },
        "yaxis": {
         "title": {
          "text": "Taxa de acerto"
         }
        }
       }
      }
     },
     "metadata": {},
     "output_type": "display_data"
    },
    {
     "data": {
      "application/vnd.plotly.v1+json": {
       "config": {
        "plotlyServerURL": "https://plot.ly"
       },
       "data": [
        {
         "marker": {
          "line": {
           "color": "black",
           "width": 0.5
          },
          "size": 7,
          "symbol": "circle"
         },
         "mode": "lines+markers",
         "name": "ALS",
         "type": "scatter",
         "x": [
          "Top 1",
          "Top 2",
          "Top 3",
          "Top 4",
          "Top 5",
          "Top 6",
          "Top 7",
          "Top 8",
          "Top 9",
          "Top 10",
          "Top 11",
          "Top 12",
          "Top 13",
          "Top 14",
          "Top 15",
          "Top 16",
          "Top 17",
          "Top 18",
          "Top 19",
          "Top 20"
         ],
         "y": [
          0.0098056725547975,
          0.0120635282356793,
          0.0145728713761919,
          0.0141610372615501,
          0.0126303836644383,
          0.0118044125577961,
          0.0114234873715217,
          0.0107147660801628,
          0.0102606399065123,
          0.0098700766604068,
          0.0093540538947628,
          0.0087434978512259,
          0.0081379675553213,
          0.0079163641804622,
          0.0075788203673848,
          0.0073559158038997,
          0.0070836987436916,
          0.0067789543372564,
          0.0065041545282039,
          0.0062537456346729
         ]
        },
        {
         "marker": {
          "line": {
           "color": "black",
           "width": 0.5
          },
          "size": 7,
          "symbol": "square"
         },
         "mode": "lines+markers",
         "name": "ALS_itemSim",
         "type": "scatter",
         "x": [
          "Top 1",
          "Top 2",
          "Top 3",
          "Top 4",
          "Top 5",
          "Top 6",
          "Top 7",
          "Top 8",
          "Top 9",
          "Top 10",
          "Top 11",
          "Top 12",
          "Top 13",
          "Top 14",
          "Top 15",
          "Top 16",
          "Top 17",
          "Top 18",
          "Top 19",
          "Top 20"
         ],
         "y": [
          0.0129760695394029,
          0.0171301804060449,
          0.0152867068128506,
          0.0135829392302346,
          0.0128690896686378,
          0.0127781627633287,
          0.0121289689972444,
          0.0112113230289816,
          0.010356090209876,
          0.0102016792885848,
          0.0096531250404031,
          0.0089337578223002,
          0.0084769714272678,
          0.0083843275054602,
          0.0080921401473774,
          0.0076983075052966,
          0.0075337896350085,
          0.0072091379336144,
          0.0070278751290138,
          0.0068683108431489
         ]
        },
        {
         "marker": {
          "line": {
           "color": "black",
           "width": 0.5
          },
          "size": 7,
          "symbol": "diamond"
         },
         "mode": "lines+markers",
         "name": "ALS_weighted",
         "type": "scatter",
         "x": [
          "Top 1",
          "Top 2",
          "Top 3",
          "Top 4",
          "Top 5",
          "Top 6",
          "Top 7",
          "Top 8",
          "Top 9",
          "Top 10",
          "Top 11",
          "Top 12",
          "Top 13",
          "Top 14",
          "Top 15",
          "Top 16",
          "Top 17",
          "Top 18",
          "Top 19",
          "Top 20"
         ],
         "y": [
          0.0198275544690783,
          0.0185280816403216,
          0.016339976569789,
          0.0159578243795377,
          0.0148104387855264,
          0.0135632255973811,
          0.0122393772946911,
          0.0114376516324618,
          0.0108008323732644,
          0.0101630911376778,
          0.0093387399334641,
          0.0086380853797981,
          0.0081137648094809,
          0.0079613440060039,
          0.0078223475769039,
          0.0075696568329222,
          0.0071583767539524,
          0.0070304126485466,
          0.0066860451237286,
          0.0064281897358637
         ]
        },
        {
         "marker": {
          "line": {
           "color": "black",
           "width": 0.5
          },
          "size": 7,
          "symbol": "cross"
         },
         "mode": "lines+markers",
         "name": "BPR",
         "type": "scatter",
         "x": [
          "Top 1",
          "Top 2",
          "Top 3",
          "Top 4",
          "Top 5",
          "Top 6",
          "Top 7",
          "Top 8",
          "Top 9",
          "Top 10",
          "Top 11",
          "Top 12",
          "Top 13",
          "Top 14",
          "Top 15",
          "Top 16",
          "Top 17",
          "Top 18",
          "Top 19",
          "Top 20"
         ],
         "y": [
          0.019164846265547,
          0.0196912110379636,
          0.0183006602091264,
          0.0163610737660845,
          0.0147922289725801,
          0.0132915781386583,
          0.0125289716486912,
          0.0111870745991641,
          0.0108894603547628,
          0.0102488612626502,
          0.0096090808364147,
          0.0091575039825753,
          0.0087571714060072,
          0.0081873101423906,
          0.0078365440017895,
          0.0074499042913187,
          0.0071073729390457,
          0.0069211567175512,
          0.0066412660267491,
          0.0063837290759285
         ]
        },
        {
         "marker": {
          "line": {
           "color": "black",
           "width": 0.5
          },
          "size": 7,
          "symbol": "triangle-up"
         },
         "mode": "lines+markers",
         "name": "BPR_itemSim",
         "type": "scatter",
         "x": [
          "Top 1",
          "Top 2",
          "Top 3",
          "Top 4",
          "Top 5",
          "Top 6",
          "Top 7",
          "Top 8",
          "Top 9",
          "Top 10",
          "Top 11",
          "Top 12",
          "Top 13",
          "Top 14",
          "Top 15",
          "Top 16",
          "Top 17",
          "Top 18",
          "Top 19",
          "Top 20"
         ],
         "y": [
          0.0209992050643903,
          0.0189110204792143,
          0.0184941119605437,
          0.0166350013962588,
          0.0163091025278347,
          0.0144018058285369,
          0.0129511757898177,
          0.0124142158593994,
          0.0115668620991085,
          0.0108546450549594,
          0.0100771943218565,
          0.0094054867326265,
          0.0090024384887502,
          0.0088655382232997,
          0.0086115869335711,
          0.0083108389498304,
          0.0079880912041714,
          0.0076996885976814,
          0.0074907179606149,
          0.007195666301887
         ]
        }
       ],
       "layout": {
        "font": {
         "color": "black",
         "family": "Helvetica",
         "size": 12
        },
        "height": 500,
        "legend": {
         "title": {
          "text": "Recomendadores"
         }
        },
        "template": {
         "data": {
          "bar": [
           {
            "error_x": {
             "color": "#2a3f5f"
            },
            "error_y": {
             "color": "#2a3f5f"
            },
            "marker": {
             "line": {
              "color": "#E5ECF6",
              "width": 0.5
             },
             "pattern": {
              "fillmode": "overlay",
              "size": 10,
              "solidity": 0.2
             }
            },
            "type": "bar"
           }
          ],
          "barpolar": [
           {
            "marker": {
             "line": {
              "color": "#E5ECF6",
              "width": 0.5
             },
             "pattern": {
              "fillmode": "overlay",
              "size": 10,
              "solidity": 0.2
             }
            },
            "type": "barpolar"
           }
          ],
          "carpet": [
           {
            "aaxis": {
             "endlinecolor": "#2a3f5f",
             "gridcolor": "white",
             "linecolor": "white",
             "minorgridcolor": "white",
             "startlinecolor": "#2a3f5f"
            },
            "baxis": {
             "endlinecolor": "#2a3f5f",
             "gridcolor": "white",
             "linecolor": "white",
             "minorgridcolor": "white",
             "startlinecolor": "#2a3f5f"
            },
            "type": "carpet"
           }
          ],
          "choropleth": [
           {
            "colorbar": {
             "outlinewidth": 0,
             "ticks": ""
            },
            "type": "choropleth"
           }
          ],
          "contour": [
           {
            "colorbar": {
             "outlinewidth": 0,
             "ticks": ""
            },
            "colorscale": [
             [
              0,
              "#0d0887"
             ],
             [
              0.1111111111111111,
              "#46039f"
             ],
             [
              0.2222222222222222,
              "#7201a8"
             ],
             [
              0.3333333333333333,
              "#9c179e"
             ],
             [
              0.4444444444444444,
              "#bd3786"
             ],
             [
              0.5555555555555556,
              "#d8576b"
             ],
             [
              0.6666666666666666,
              "#ed7953"
             ],
             [
              0.7777777777777778,
              "#fb9f3a"
             ],
             [
              0.8888888888888888,
              "#fdca26"
             ],
             [
              1,
              "#f0f921"
             ]
            ],
            "type": "contour"
           }
          ],
          "contourcarpet": [
           {
            "colorbar": {
             "outlinewidth": 0,
             "ticks": ""
            },
            "type": "contourcarpet"
           }
          ],
          "heatmap": [
           {
            "colorbar": {
             "outlinewidth": 0,
             "ticks": ""
            },
            "colorscale": [
             [
              0,
              "#0d0887"
             ],
             [
              0.1111111111111111,
              "#46039f"
             ],
             [
              0.2222222222222222,
              "#7201a8"
             ],
             [
              0.3333333333333333,
              "#9c179e"
             ],
             [
              0.4444444444444444,
              "#bd3786"
             ],
             [
              0.5555555555555556,
              "#d8576b"
             ],
             [
              0.6666666666666666,
              "#ed7953"
             ],
             [
              0.7777777777777778,
              "#fb9f3a"
             ],
             [
              0.8888888888888888,
              "#fdca26"
             ],
             [
              1,
              "#f0f921"
             ]
            ],
            "type": "heatmap"
           }
          ],
          "heatmapgl": [
           {
            "colorbar": {
             "outlinewidth": 0,
             "ticks": ""
            },
            "colorscale": [
             [
              0,
              "#0d0887"
             ],
             [
              0.1111111111111111,
              "#46039f"
             ],
             [
              0.2222222222222222,
              "#7201a8"
             ],
             [
              0.3333333333333333,
              "#9c179e"
             ],
             [
              0.4444444444444444,
              "#bd3786"
             ],
             [
              0.5555555555555556,
              "#d8576b"
             ],
             [
              0.6666666666666666,
              "#ed7953"
             ],
             [
              0.7777777777777778,
              "#fb9f3a"
             ],
             [
              0.8888888888888888,
              "#fdca26"
             ],
             [
              1,
              "#f0f921"
             ]
            ],
            "type": "heatmapgl"
           }
          ],
          "histogram": [
           {
            "marker": {
             "pattern": {
              "fillmode": "overlay",
              "size": 10,
              "solidity": 0.2
             }
            },
            "type": "histogram"
           }
          ],
          "histogram2d": [
           {
            "colorbar": {
             "outlinewidth": 0,
             "ticks": ""
            },
            "colorscale": [
             [
              0,
              "#0d0887"
             ],
             [
              0.1111111111111111,
              "#46039f"
             ],
             [
              0.2222222222222222,
              "#7201a8"
             ],
             [
              0.3333333333333333,
              "#9c179e"
             ],
             [
              0.4444444444444444,
              "#bd3786"
             ],
             [
              0.5555555555555556,
              "#d8576b"
             ],
             [
              0.6666666666666666,
              "#ed7953"
             ],
             [
              0.7777777777777778,
              "#fb9f3a"
             ],
             [
              0.8888888888888888,
              "#fdca26"
             ],
             [
              1,
              "#f0f921"
             ]
            ],
            "type": "histogram2d"
           }
          ],
          "histogram2dcontour": [
           {
            "colorbar": {
             "outlinewidth": 0,
             "ticks": ""
            },
            "colorscale": [
             [
              0,
              "#0d0887"
             ],
             [
              0.1111111111111111,
              "#46039f"
             ],
             [
              0.2222222222222222,
              "#7201a8"
             ],
             [
              0.3333333333333333,
              "#9c179e"
             ],
             [
              0.4444444444444444,
              "#bd3786"
             ],
             [
              0.5555555555555556,
              "#d8576b"
             ],
             [
              0.6666666666666666,
              "#ed7953"
             ],
             [
              0.7777777777777778,
              "#fb9f3a"
             ],
             [
              0.8888888888888888,
              "#fdca26"
             ],
             [
              1,
              "#f0f921"
             ]
            ],
            "type": "histogram2dcontour"
           }
          ],
          "mesh3d": [
           {
            "colorbar": {
             "outlinewidth": 0,
             "ticks": ""
            },
            "type": "mesh3d"
           }
          ],
          "parcoords": [
           {
            "line": {
             "colorbar": {
              "outlinewidth": 0,
              "ticks": ""
             }
            },
            "type": "parcoords"
           }
          ],
          "pie": [
           {
            "automargin": true,
            "type": "pie"
           }
          ],
          "scatter": [
           {
            "fillpattern": {
             "fillmode": "overlay",
             "size": 10,
             "solidity": 0.2
            },
            "type": "scatter"
           }
          ],
          "scatter3d": [
           {
            "line": {
             "colorbar": {
              "outlinewidth": 0,
              "ticks": ""
             }
            },
            "marker": {
             "colorbar": {
              "outlinewidth": 0,
              "ticks": ""
             }
            },
            "type": "scatter3d"
           }
          ],
          "scattercarpet": [
           {
            "marker": {
             "colorbar": {
              "outlinewidth": 0,
              "ticks": ""
             }
            },
            "type": "scattercarpet"
           }
          ],
          "scattergeo": [
           {
            "marker": {
             "colorbar": {
              "outlinewidth": 0,
              "ticks": ""
             }
            },
            "type": "scattergeo"
           }
          ],
          "scattergl": [
           {
            "marker": {
             "colorbar": {
              "outlinewidth": 0,
              "ticks": ""
             }
            },
            "type": "scattergl"
           }
          ],
          "scattermapbox": [
           {
            "marker": {
             "colorbar": {
              "outlinewidth": 0,
              "ticks": ""
             }
            },
            "type": "scattermapbox"
           }
          ],
          "scatterpolar": [
           {
            "marker": {
             "colorbar": {
              "outlinewidth": 0,
              "ticks": ""
             }
            },
            "type": "scatterpolar"
           }
          ],
          "scatterpolargl": [
           {
            "marker": {
             "colorbar": {
              "outlinewidth": 0,
              "ticks": ""
             }
            },
            "type": "scatterpolargl"
           }
          ],
          "scatterternary": [
           {
            "marker": {
             "colorbar": {
              "outlinewidth": 0,
              "ticks": ""
             }
            },
            "type": "scatterternary"
           }
          ],
          "surface": [
           {
            "colorbar": {
             "outlinewidth": 0,
             "ticks": ""
            },
            "colorscale": [
             [
              0,
              "#0d0887"
             ],
             [
              0.1111111111111111,
              "#46039f"
             ],
             [
              0.2222222222222222,
              "#7201a8"
             ],
             [
              0.3333333333333333,
              "#9c179e"
             ],
             [
              0.4444444444444444,
              "#bd3786"
             ],
             [
              0.5555555555555556,
              "#d8576b"
             ],
             [
              0.6666666666666666,
              "#ed7953"
             ],
             [
              0.7777777777777778,
              "#fb9f3a"
             ],
             [
              0.8888888888888888,
              "#fdca26"
             ],
             [
              1,
              "#f0f921"
             ]
            ],
            "type": "surface"
           }
          ],
          "table": [
           {
            "cells": {
             "fill": {
              "color": "#EBF0F8"
             },
             "line": {
              "color": "white"
             }
            },
            "header": {
             "fill": {
              "color": "#C8D4E3"
             },
             "line": {
              "color": "white"
             }
            },
            "type": "table"
           }
          ]
         },
         "layout": {
          "annotationdefaults": {
           "arrowcolor": "#2a3f5f",
           "arrowhead": 0,
           "arrowwidth": 1
          },
          "autotypenumbers": "strict",
          "coloraxis": {
           "colorbar": {
            "outlinewidth": 0,
            "ticks": ""
           }
          },
          "colorscale": {
           "diverging": [
            [
             0,
             "#8e0152"
            ],
            [
             0.1,
             "#c51b7d"
            ],
            [
             0.2,
             "#de77ae"
            ],
            [
             0.3,
             "#f1b6da"
            ],
            [
             0.4,
             "#fde0ef"
            ],
            [
             0.5,
             "#f7f7f7"
            ],
            [
             0.6,
             "#e6f5d0"
            ],
            [
             0.7,
             "#b8e186"
            ],
            [
             0.8,
             "#7fbc41"
            ],
            [
             0.9,
             "#4d9221"
            ],
            [
             1,
             "#276419"
            ]
           ],
           "sequential": [
            [
             0,
             "#0d0887"
            ],
            [
             0.1111111111111111,
             "#46039f"
            ],
            [
             0.2222222222222222,
             "#7201a8"
            ],
            [
             0.3333333333333333,
             "#9c179e"
            ],
            [
             0.4444444444444444,
             "#bd3786"
            ],
            [
             0.5555555555555556,
             "#d8576b"
            ],
            [
             0.6666666666666666,
             "#ed7953"
            ],
            [
             0.7777777777777778,
             "#fb9f3a"
            ],
            [
             0.8888888888888888,
             "#fdca26"
            ],
            [
             1,
             "#f0f921"
            ]
           ],
           "sequentialminus": [
            [
             0,
             "#0d0887"
            ],
            [
             0.1111111111111111,
             "#46039f"
            ],
            [
             0.2222222222222222,
             "#7201a8"
            ],
            [
             0.3333333333333333,
             "#9c179e"
            ],
            [
             0.4444444444444444,
             "#bd3786"
            ],
            [
             0.5555555555555556,
             "#d8576b"
            ],
            [
             0.6666666666666666,
             "#ed7953"
            ],
            [
             0.7777777777777778,
             "#fb9f3a"
            ],
            [
             0.8888888888888888,
             "#fdca26"
            ],
            [
             1,
             "#f0f921"
            ]
           ]
          },
          "colorway": [
           "#636efa",
           "#EF553B",
           "#00cc96",
           "#ab63fa",
           "#FFA15A",
           "#19d3f3",
           "#FF6692",
           "#B6E880",
           "#FF97FF",
           "#FECB52"
          ],
          "font": {
           "color": "#2a3f5f"
          },
          "geo": {
           "bgcolor": "white",
           "lakecolor": "white",
           "landcolor": "#E5ECF6",
           "showlakes": true,
           "showland": true,
           "subunitcolor": "white"
          },
          "hoverlabel": {
           "align": "left"
          },
          "hovermode": "closest",
          "mapbox": {
           "style": "light"
          },
          "paper_bgcolor": "white",
          "plot_bgcolor": "#E5ECF6",
          "polar": {
           "angularaxis": {
            "gridcolor": "white",
            "linecolor": "white",
            "ticks": ""
           },
           "bgcolor": "#E5ECF6",
           "radialaxis": {
            "gridcolor": "white",
            "linecolor": "white",
            "ticks": ""
           }
          },
          "scene": {
           "xaxis": {
            "backgroundcolor": "#E5ECF6",
            "gridcolor": "white",
            "gridwidth": 2,
            "linecolor": "white",
            "showbackground": true,
            "ticks": "",
            "zerolinecolor": "white"
           },
           "yaxis": {
            "backgroundcolor": "#E5ECF6",
            "gridcolor": "white",
            "gridwidth": 2,
            "linecolor": "white",
            "showbackground": true,
            "ticks": "",
            "zerolinecolor": "white"
           },
           "zaxis": {
            "backgroundcolor": "#E5ECF6",
            "gridcolor": "white",
            "gridwidth": 2,
            "linecolor": "white",
            "showbackground": true,
            "ticks": "",
            "zerolinecolor": "white"
           }
          },
          "shapedefaults": {
           "line": {
            "color": "#2a3f5f"
           }
          },
          "ternary": {
           "aaxis": {
            "gridcolor": "white",
            "linecolor": "white",
            "ticks": ""
           },
           "baxis": {
            "gridcolor": "white",
            "linecolor": "white",
            "ticks": ""
           },
           "bgcolor": "#E5ECF6",
           "caxis": {
            "gridcolor": "white",
            "linecolor": "white",
            "ticks": ""
           }
          },
          "title": {
           "x": 0.05
          },
          "xaxis": {
           "automargin": true,
           "gridcolor": "white",
           "linecolor": "white",
           "ticks": "",
           "title": {
            "standoff": 15
           },
           "zerolinecolor": "white",
           "zerolinewidth": 2
          },
          "yaxis": {
           "automargin": true,
           "gridcolor": "white",
           "linecolor": "white",
           "ticks": "",
           "title": {
            "standoff": 15
           },
           "zerolinecolor": "white",
           "zerolinewidth": 2
          }
         }
        },
        "title": {
         "text": "F1_Score"
        },
        "width": 800,
        "xaxis": {
         "title": {
          "text": ""
         }
        },
        "yaxis": {
         "title": {
          "text": "Taxa de acerto"
         }
        }
       }
      }
     },
     "metadata": {},
     "output_type": "display_data"
    },
    {
     "data": {
      "application/vnd.plotly.v1+json": {
       "config": {
        "plotlyServerURL": "https://plot.ly"
       },
       "data": [
        {
         "marker": {
          "line": {
           "color": "black",
           "width": 0.5
          },
          "size": 7,
          "symbol": "circle"
         },
         "mode": "lines+markers",
         "name": "ALS",
         "type": "scatter",
         "x": [
          "Top 1",
          "Top 2",
          "Top 3",
          "Top 4",
          "Top 5",
          "Top 6",
          "Top 7",
          "Top 8",
          "Top 9",
          "Top 10",
          "Top 11",
          "Top 12",
          "Top 13",
          "Top 14",
          "Top 15",
          "Top 16",
          "Top 17",
          "Top 18",
          "Top 19",
          "Top 20"
         ],
         "y": [
          0.0073745124309573,
          0.0110477750447259,
          0.0147350312602046,
          0.0165737852572349,
          0.0171743854332143,
          0.0180039183793167,
          0.0189095602568027,
          0.0193993286053052,
          0.0199835258277039,
          0.0205445027106075,
          0.0208693029559073,
          0.0209741910942833,
          0.0209741910942833,
          0.0213715733333913,
          0.0215656394499955,
          0.0218505097337994,
          0.0220366676301999,
          0.0221280374174621,
          0.0222178427600515,
          0.0223062089221133
         ]
        },
        {
         "marker": {
          "line": {
           "color": "black",
           "width": 0.5
          },
          "size": 7,
          "symbol": "square"
         },
         "mode": "lines+markers",
         "name": "ALS_itemSim",
         "type": "scatter",
         "x": [
          "Top 1",
          "Top 2",
          "Top 3",
          "Top 4",
          "Top 5",
          "Top 6",
          "Top 7",
          "Top 8",
          "Top 9",
          "Top 10",
          "Top 11",
          "Top 12",
          "Top 13",
          "Top 14",
          "Top 15",
          "Top 16",
          "Top 17",
          "Top 18",
          "Top 19",
          "Top 20"
         ],
         "y": [
          0.0104795702966236,
          0.0158670221301509,
          0.017419551062984,
          0.0182553483343614,
          0.0194565486863201,
          0.0208391035964909,
          0.0216153680629074,
          0.0219826943242843,
          0.0222163732132438,
          0.0230017408493088,
          0.0233265410946087,
          0.0233265410946087,
          0.0235304265957789,
          0.024126499954441,
          0.0244175991293472,
          0.0245125558906151,
          0.0248848716834162,
          0.0249762414706784,
          0.0252456574984467,
          0.0255107559846322
         ]
        },
        {
         "marker": {
          "line": {
           "color": "black",
           "width": 0.5
          },
          "size": 7,
          "symbol": "diamond"
         },
         "mode": "lines+markers",
         "name": "ALS_weighted",
         "type": "scatter",
         "x": [
          "Top 1",
          "Top 2",
          "Top 3",
          "Top 4",
          "Top 5",
          "Top 6",
          "Top 7",
          "Top 8",
          "Top 9",
          "Top 10",
          "Top 11",
          "Top 12",
          "Top 13",
          "Top 14",
          "Top 15",
          "Top 16",
          "Top 17",
          "Top 18",
          "Top 19",
          "Top 20"
         ],
         "y": [
          0.0139727603954981,
          0.0174011388350155,
          0.0189536677678486,
          0.0211267406734299,
          0.0223279410253886,
          0.0230192184804739,
          0.0232779733026128,
          0.0237677416511153,
          0.0242350994290342,
          0.0245716855587764,
          0.0245716855587764,
          0.0245716855587764,
          0.0246736283093615,
          0.0251703561082466,
          0.025655521399757,
          0.0259403916835608,
          0.0259403916835608,
          0.0263058708326094,
          0.0263058708326094,
          0.0263942369946712
         ]
        },
        {
         "marker": {
          "line": {
           "color": "black",
           "width": 0.5
          },
          "size": 7,
          "symbol": "cross"
         },
         "mode": "lines+markers",
         "name": "BPR",
         "type": "scatter",
         "x": [
          "Top 1",
          "Top 2",
          "Top 3",
          "Top 4",
          "Top 5",
          "Top 6",
          "Top 7",
          "Top 8",
          "Top 9",
          "Top 10",
          "Top 11",
          "Top 12",
          "Top 13",
          "Top 14",
          "Top 15",
          "Top 16",
          "Top 17",
          "Top 18",
          "Top 19",
          "Top 20"
         ],
         "y": [
          0.0139727603954981,
          0.0183806755320204,
          0.0207094689312701,
          0.0218795851111985,
          0.0227804853751675,
          0.0231952518482188,
          0.0239715163146353,
          0.0239715163146353,
          0.0247893924259935,
          0.0251259785557357,
          0.0253425120526022,
          0.0256571764677301,
          0.0259630047194854,
          0.0259630047194854,
          0.0261570708360895,
          0.0262520275973575,
          0.0263451065455578,
          0.0266192159073442,
          0.0267090212499336,
          0.0267973874119954
         ]
        },
        {
         "marker": {
          "line": {
           "color": "black",
           "width": 0.5
          },
          "size": 7,
          "symbol": "triangle-up"
         },
         "mode": "lines+markers",
         "name": "BPR_itemSim",
         "type": "scatter",
         "x": [
          "Top 1",
          "Top 2",
          "Top 3",
          "Top 4",
          "Top 5",
          "Top 6",
          "Top 7",
          "Top 8",
          "Top 9",
          "Top 10",
          "Top 11",
          "Top 12",
          "Top 13",
          "Top 14",
          "Top 15",
          "Top 16",
          "Top 17",
          "Top 18",
          "Top 19",
          "Top 20"
         ],
         "y": [
          0.0159134215615395,
          0.0188520316525544,
          0.0215689572850124,
          0.0229062329192162,
          0.0247080334471543,
          0.0249845444291884,
          0.0252432992513273,
          0.0261003938612066,
          0.0264509121946458,
          0.026787498324388,
          0.0268957650728213,
          0.0270006532111972,
          0.0273064814629525,
          0.0279025548216146,
          0.0282906870548229,
          0.0285755573386268,
          0.0287617152350274,
          0.0289444548095516,
          0.0292138708373199,
          0.0293022369993818
         ]
        }
       ],
       "layout": {
        "font": {
         "color": "black",
         "family": "Helvetica",
         "size": 12
        },
        "height": 500,
        "legend": {
         "title": {
          "text": "Recomendadores"
         }
        },
        "template": {
         "data": {
          "bar": [
           {
            "error_x": {
             "color": "#2a3f5f"
            },
            "error_y": {
             "color": "#2a3f5f"
            },
            "marker": {
             "line": {
              "color": "#E5ECF6",
              "width": 0.5
             },
             "pattern": {
              "fillmode": "overlay",
              "size": 10,
              "solidity": 0.2
             }
            },
            "type": "bar"
           }
          ],
          "barpolar": [
           {
            "marker": {
             "line": {
              "color": "#E5ECF6",
              "width": 0.5
             },
             "pattern": {
              "fillmode": "overlay",
              "size": 10,
              "solidity": 0.2
             }
            },
            "type": "barpolar"
           }
          ],
          "carpet": [
           {
            "aaxis": {
             "endlinecolor": "#2a3f5f",
             "gridcolor": "white",
             "linecolor": "white",
             "minorgridcolor": "white",
             "startlinecolor": "#2a3f5f"
            },
            "baxis": {
             "endlinecolor": "#2a3f5f",
             "gridcolor": "white",
             "linecolor": "white",
             "minorgridcolor": "white",
             "startlinecolor": "#2a3f5f"
            },
            "type": "carpet"
           }
          ],
          "choropleth": [
           {
            "colorbar": {
             "outlinewidth": 0,
             "ticks": ""
            },
            "type": "choropleth"
           }
          ],
          "contour": [
           {
            "colorbar": {
             "outlinewidth": 0,
             "ticks": ""
            },
            "colorscale": [
             [
              0,
              "#0d0887"
             ],
             [
              0.1111111111111111,
              "#46039f"
             ],
             [
              0.2222222222222222,
              "#7201a8"
             ],
             [
              0.3333333333333333,
              "#9c179e"
             ],
             [
              0.4444444444444444,
              "#bd3786"
             ],
             [
              0.5555555555555556,
              "#d8576b"
             ],
             [
              0.6666666666666666,
              "#ed7953"
             ],
             [
              0.7777777777777778,
              "#fb9f3a"
             ],
             [
              0.8888888888888888,
              "#fdca26"
             ],
             [
              1,
              "#f0f921"
             ]
            ],
            "type": "contour"
           }
          ],
          "contourcarpet": [
           {
            "colorbar": {
             "outlinewidth": 0,
             "ticks": ""
            },
            "type": "contourcarpet"
           }
          ],
          "heatmap": [
           {
            "colorbar": {
             "outlinewidth": 0,
             "ticks": ""
            },
            "colorscale": [
             [
              0,
              "#0d0887"
             ],
             [
              0.1111111111111111,
              "#46039f"
             ],
             [
              0.2222222222222222,
              "#7201a8"
             ],
             [
              0.3333333333333333,
              "#9c179e"
             ],
             [
              0.4444444444444444,
              "#bd3786"
             ],
             [
              0.5555555555555556,
              "#d8576b"
             ],
             [
              0.6666666666666666,
              "#ed7953"
             ],
             [
              0.7777777777777778,
              "#fb9f3a"
             ],
             [
              0.8888888888888888,
              "#fdca26"
             ],
             [
              1,
              "#f0f921"
             ]
            ],
            "type": "heatmap"
           }
          ],
          "heatmapgl": [
           {
            "colorbar": {
             "outlinewidth": 0,
             "ticks": ""
            },
            "colorscale": [
             [
              0,
              "#0d0887"
             ],
             [
              0.1111111111111111,
              "#46039f"
             ],
             [
              0.2222222222222222,
              "#7201a8"
             ],
             [
              0.3333333333333333,
              "#9c179e"
             ],
             [
              0.4444444444444444,
              "#bd3786"
             ],
             [
              0.5555555555555556,
              "#d8576b"
             ],
             [
              0.6666666666666666,
              "#ed7953"
             ],
             [
              0.7777777777777778,
              "#fb9f3a"
             ],
             [
              0.8888888888888888,
              "#fdca26"
             ],
             [
              1,
              "#f0f921"
             ]
            ],
            "type": "heatmapgl"
           }
          ],
          "histogram": [
           {
            "marker": {
             "pattern": {
              "fillmode": "overlay",
              "size": 10,
              "solidity": 0.2
             }
            },
            "type": "histogram"
           }
          ],
          "histogram2d": [
           {
            "colorbar": {
             "outlinewidth": 0,
             "ticks": ""
            },
            "colorscale": [
             [
              0,
              "#0d0887"
             ],
             [
              0.1111111111111111,
              "#46039f"
             ],
             [
              0.2222222222222222,
              "#7201a8"
             ],
             [
              0.3333333333333333,
              "#9c179e"
             ],
             [
              0.4444444444444444,
              "#bd3786"
             ],
             [
              0.5555555555555556,
              "#d8576b"
             ],
             [
              0.6666666666666666,
              "#ed7953"
             ],
             [
              0.7777777777777778,
              "#fb9f3a"
             ],
             [
              0.8888888888888888,
              "#fdca26"
             ],
             [
              1,
              "#f0f921"
             ]
            ],
            "type": "histogram2d"
           }
          ],
          "histogram2dcontour": [
           {
            "colorbar": {
             "outlinewidth": 0,
             "ticks": ""
            },
            "colorscale": [
             [
              0,
              "#0d0887"
             ],
             [
              0.1111111111111111,
              "#46039f"
             ],
             [
              0.2222222222222222,
              "#7201a8"
             ],
             [
              0.3333333333333333,
              "#9c179e"
             ],
             [
              0.4444444444444444,
              "#bd3786"
             ],
             [
              0.5555555555555556,
              "#d8576b"
             ],
             [
              0.6666666666666666,
              "#ed7953"
             ],
             [
              0.7777777777777778,
              "#fb9f3a"
             ],
             [
              0.8888888888888888,
              "#fdca26"
             ],
             [
              1,
              "#f0f921"
             ]
            ],
            "type": "histogram2dcontour"
           }
          ],
          "mesh3d": [
           {
            "colorbar": {
             "outlinewidth": 0,
             "ticks": ""
            },
            "type": "mesh3d"
           }
          ],
          "parcoords": [
           {
            "line": {
             "colorbar": {
              "outlinewidth": 0,
              "ticks": ""
             }
            },
            "type": "parcoords"
           }
          ],
          "pie": [
           {
            "automargin": true,
            "type": "pie"
           }
          ],
          "scatter": [
           {
            "fillpattern": {
             "fillmode": "overlay",
             "size": 10,
             "solidity": 0.2
            },
            "type": "scatter"
           }
          ],
          "scatter3d": [
           {
            "line": {
             "colorbar": {
              "outlinewidth": 0,
              "ticks": ""
             }
            },
            "marker": {
             "colorbar": {
              "outlinewidth": 0,
              "ticks": ""
             }
            },
            "type": "scatter3d"
           }
          ],
          "scattercarpet": [
           {
            "marker": {
             "colorbar": {
              "outlinewidth": 0,
              "ticks": ""
             }
            },
            "type": "scattercarpet"
           }
          ],
          "scattergeo": [
           {
            "marker": {
             "colorbar": {
              "outlinewidth": 0,
              "ticks": ""
             }
            },
            "type": "scattergeo"
           }
          ],
          "scattergl": [
           {
            "marker": {
             "colorbar": {
              "outlinewidth": 0,
              "ticks": ""
             }
            },
            "type": "scattergl"
           }
          ],
          "scattermapbox": [
           {
            "marker": {
             "colorbar": {
              "outlinewidth": 0,
              "ticks": ""
             }
            },
            "type": "scattermapbox"
           }
          ],
          "scatterpolar": [
           {
            "marker": {
             "colorbar": {
              "outlinewidth": 0,
              "ticks": ""
             }
            },
            "type": "scatterpolar"
           }
          ],
          "scatterpolargl": [
           {
            "marker": {
             "colorbar": {
              "outlinewidth": 0,
              "ticks": ""
             }
            },
            "type": "scatterpolargl"
           }
          ],
          "scatterternary": [
           {
            "marker": {
             "colorbar": {
              "outlinewidth": 0,
              "ticks": ""
             }
            },
            "type": "scatterternary"
           }
          ],
          "surface": [
           {
            "colorbar": {
             "outlinewidth": 0,
             "ticks": ""
            },
            "colorscale": [
             [
              0,
              "#0d0887"
             ],
             [
              0.1111111111111111,
              "#46039f"
             ],
             [
              0.2222222222222222,
              "#7201a8"
             ],
             [
              0.3333333333333333,
              "#9c179e"
             ],
             [
              0.4444444444444444,
              "#bd3786"
             ],
             [
              0.5555555555555556,
              "#d8576b"
             ],
             [
              0.6666666666666666,
              "#ed7953"
             ],
             [
              0.7777777777777778,
              "#fb9f3a"
             ],
             [
              0.8888888888888888,
              "#fdca26"
             ],
             [
              1,
              "#f0f921"
             ]
            ],
            "type": "surface"
           }
          ],
          "table": [
           {
            "cells": {
             "fill": {
              "color": "#EBF0F8"
             },
             "line": {
              "color": "white"
             }
            },
            "header": {
             "fill": {
              "color": "#C8D4E3"
             },
             "line": {
              "color": "white"
             }
            },
            "type": "table"
           }
          ]
         },
         "layout": {
          "annotationdefaults": {
           "arrowcolor": "#2a3f5f",
           "arrowhead": 0,
           "arrowwidth": 1
          },
          "autotypenumbers": "strict",
          "coloraxis": {
           "colorbar": {
            "outlinewidth": 0,
            "ticks": ""
           }
          },
          "colorscale": {
           "diverging": [
            [
             0,
             "#8e0152"
            ],
            [
             0.1,
             "#c51b7d"
            ],
            [
             0.2,
             "#de77ae"
            ],
            [
             0.3,
             "#f1b6da"
            ],
            [
             0.4,
             "#fde0ef"
            ],
            [
             0.5,
             "#f7f7f7"
            ],
            [
             0.6,
             "#e6f5d0"
            ],
            [
             0.7,
             "#b8e186"
            ],
            [
             0.8,
             "#7fbc41"
            ],
            [
             0.9,
             "#4d9221"
            ],
            [
             1,
             "#276419"
            ]
           ],
           "sequential": [
            [
             0,
             "#0d0887"
            ],
            [
             0.1111111111111111,
             "#46039f"
            ],
            [
             0.2222222222222222,
             "#7201a8"
            ],
            [
             0.3333333333333333,
             "#9c179e"
            ],
            [
             0.4444444444444444,
             "#bd3786"
            ],
            [
             0.5555555555555556,
             "#d8576b"
            ],
            [
             0.6666666666666666,
             "#ed7953"
            ],
            [
             0.7777777777777778,
             "#fb9f3a"
            ],
            [
             0.8888888888888888,
             "#fdca26"
            ],
            [
             1,
             "#f0f921"
            ]
           ],
           "sequentialminus": [
            [
             0,
             "#0d0887"
            ],
            [
             0.1111111111111111,
             "#46039f"
            ],
            [
             0.2222222222222222,
             "#7201a8"
            ],
            [
             0.3333333333333333,
             "#9c179e"
            ],
            [
             0.4444444444444444,
             "#bd3786"
            ],
            [
             0.5555555555555556,
             "#d8576b"
            ],
            [
             0.6666666666666666,
             "#ed7953"
            ],
            [
             0.7777777777777778,
             "#fb9f3a"
            ],
            [
             0.8888888888888888,
             "#fdca26"
            ],
            [
             1,
             "#f0f921"
            ]
           ]
          },
          "colorway": [
           "#636efa",
           "#EF553B",
           "#00cc96",
           "#ab63fa",
           "#FFA15A",
           "#19d3f3",
           "#FF6692",
           "#B6E880",
           "#FF97FF",
           "#FECB52"
          ],
          "font": {
           "color": "#2a3f5f"
          },
          "geo": {
           "bgcolor": "white",
           "lakecolor": "white",
           "landcolor": "#E5ECF6",
           "showlakes": true,
           "showland": true,
           "subunitcolor": "white"
          },
          "hoverlabel": {
           "align": "left"
          },
          "hovermode": "closest",
          "mapbox": {
           "style": "light"
          },
          "paper_bgcolor": "white",
          "plot_bgcolor": "#E5ECF6",
          "polar": {
           "angularaxis": {
            "gridcolor": "white",
            "linecolor": "white",
            "ticks": ""
           },
           "bgcolor": "#E5ECF6",
           "radialaxis": {
            "gridcolor": "white",
            "linecolor": "white",
            "ticks": ""
           }
          },
          "scene": {
           "xaxis": {
            "backgroundcolor": "#E5ECF6",
            "gridcolor": "white",
            "gridwidth": 2,
            "linecolor": "white",
            "showbackground": true,
            "ticks": "",
            "zerolinecolor": "white"
           },
           "yaxis": {
            "backgroundcolor": "#E5ECF6",
            "gridcolor": "white",
            "gridwidth": 2,
            "linecolor": "white",
            "showbackground": true,
            "ticks": "",
            "zerolinecolor": "white"
           },
           "zaxis": {
            "backgroundcolor": "#E5ECF6",
            "gridcolor": "white",
            "gridwidth": 2,
            "linecolor": "white",
            "showbackground": true,
            "ticks": "",
            "zerolinecolor": "white"
           }
          },
          "shapedefaults": {
           "line": {
            "color": "#2a3f5f"
           }
          },
          "ternary": {
           "aaxis": {
            "gridcolor": "white",
            "linecolor": "white",
            "ticks": ""
           },
           "baxis": {
            "gridcolor": "white",
            "linecolor": "white",
            "ticks": ""
           },
           "bgcolor": "#E5ECF6",
           "caxis": {
            "gridcolor": "white",
            "linecolor": "white",
            "ticks": ""
           }
          },
          "title": {
           "x": 0.05
          },
          "xaxis": {
           "automargin": true,
           "gridcolor": "white",
           "linecolor": "white",
           "ticks": "",
           "title": {
            "standoff": 15
           },
           "zerolinecolor": "white",
           "zerolinewidth": 2
          },
          "yaxis": {
           "automargin": true,
           "gridcolor": "white",
           "linecolor": "white",
           "ticks": "",
           "title": {
            "standoff": 15
           },
           "zerolinecolor": "white",
           "zerolinewidth": 2
          }
         }
        },
        "title": {
         "text": "NDCG"
        },
        "width": 800,
        "xaxis": {
         "title": {
          "text": ""
         }
        },
        "yaxis": {
         "title": {
          "text": "Taxa de acerto"
         }
        }
       }
      }
     },
     "metadata": {},
     "output_type": "display_data"
    }
   ],
   "source": [
    "def function_1(x):\n",
    "   if(len(x.split('@')) > 1): \n",
    "       x = x.split('@')[1]\n",
    "       x = \"Top \" + x\n",
    "   return x\n",
    "\n",
    "DATASETS = metrics_df['Dataset'].unique()\n",
    "METRICS = ['Hit_Rate', 'F1_Score', 'NDCG']\n",
    "for dataset_name in DATASETS:\n",
    "\n",
    "    print('=' * 100)\n",
    "    print(dataset_name)\n",
    "\n",
    "    for curr_metric in METRICS:\n",
    "            \n",
    "        my_regex = \"Recommender|\" +  curr_metric + \".*\"\n",
    "        df_aux = saida[saida['Dataset'] == dataset_name].filter(regex=(my_regex))\n",
    "        \n",
    "        df_aux = df_aux.set_index('Recommender')\n",
    "        df_aux = df_aux.rename(columns=function_1)\n",
    "    \n",
    "        marker_symbols = ['circle', 'square', 'diamond', 'cross', 'triangle-up', 'triangle-down', 'star', 'hexagram']\n",
    "    \n",
    "        fig = go.Figure()\n",
    "    \n",
    "        for i, recomendador in enumerate(df_aux.index):\n",
    "            fig.add_trace(\n",
    "                go.Scatter(\n",
    "                    x=df_aux.columns,  # Colunas de métricas\n",
    "                    y=df_aux.loc[recomendador],  # Pontuações do recomendador\n",
    "                    mode='lines+markers',\n",
    "                    marker=dict(symbol=marker_symbols[i], size=7, line=dict(color='black', width=0.5)),\n",
    "                    name=recomendador\n",
    "                )\n",
    "            )\n",
    "        \n",
    "        fig.update_layout(\n",
    "            title=curr_metric,\n",
    "            height=500,\n",
    "            width=800,\n",
    "            yaxis_title=\"Taxa de acerto\",\n",
    "            xaxis_title=\"\",\n",
    "            legend_title=\"Recomendadores\",\n",
    "            font=dict(\n",
    "                family=\"Helvetica\",\n",
    "                size=12,\n",
    "                color=\"black\"\n",
    "            )\n",
    "        )\n",
    "    \n",
    "        fig.show()"
   ]
  },
  {
   "cell_type": "code",
   "execution_count": 4,
   "id": "ede7ac1f",
   "metadata": {
    "scrolled": true
   },
   "outputs": [],
   "source": [
    "#for k in metric_k:\n",
    "#    name = curr_metric + \"@\" + str(k)\n",
    "#    fig.add_trace(go.Bar(x=df_aux[\"Recommender\"], y=df_aux[name], name = name, hoverinfo='y'), x_cord, y_cord)"
   ]
  },
  {
   "cell_type": "markdown",
   "id": "7b9ff992",
   "metadata": {},
   "source": [
    "# Geração de tabelas - Divisão por Top-N"
   ]
  },
  {
   "cell_type": "code",
   "execution_count": 5,
   "id": "1c2a225f",
   "metadata": {},
   "outputs": [],
   "source": [
    "# Gera uma tabela para todos os datasets em todos os Top-N diferentes\n",
    "# Retorna o melhor parametro de cada dataset\n",
    "\n",
    "def function_1(x):\n",
    "   x = x.split('@')[0]\n",
    "   return x\n",
    "\n",
    "names_dict = {\"Prec\": \"Precision\", \"Rec\": \"Recall\", \"F1_Score\":\"F1-Score\", \"Hit_Rate\": \"Hit-Rate\"}\n",
    "\n",
    "results_path = \"../latex_results\"\n",
    "\n",
    "string_final = \"\"\n",
    "\n",
    "if not os.path.exists(results_path):\n",
    "    os.makedirs(results_path)\n",
    "    \n",
    "main_file = os.listdir(main_path)\n",
    "\n",
    "for dataset_name in main_file:\n",
    "    \n",
    "    saida_aux = saida[saida['Dataset'] == dataset_name] \n",
    "      \n",
    "    string_final = string_final + (\"=========== DATASET: \" + dataset_name + \" ===========\\n\\n\\n\")\n",
    "    string_final = string_final + (\"=========== MELHORES PARÂMETROS ===========\\n\\n\")\n",
    "    string_final = string_final + (saida[[\"Recommender\", \"Parameters\"]].to_string())\n",
    "\n",
    "    for curr_k in top_k:\n",
    "        \n",
    "        aux = '\\n\\n------ Top' + str(curr_k) + ' ------\\n\\n'\n",
    "        string_final = string_final + (aux)\n",
    "\n",
    "        #Pre processamento das colunas\n",
    "        my_regex = \"Recommender|\" +  str(curr_k) + \"$\"\n",
    "        df_aux = saida_aux.filter(regex=(my_regex))\n",
    "        df_aux = df_aux.round(4)\n",
    "        df_aux = df_aux.rename(columns=function_1)\n",
    "        df_aux = df_aux.rename(columns=names_dict)\n",
    "\n",
    "        # Tranforma a tabela em Latex\n",
    "        capt = \"Top \" + str(curr_k) + \" recommendation\"\n",
    "        string_final = string_final + (df_aux.style.hide(axis=\"index\").set_caption(capt).to_latex())\n",
    "        \n",
    "        \n",
    "    string_final = string_final + (\"\\n\\n\\n\\n\")\n",
    "\n",
    "f = open(os.path.join(results_path, \"saida.txt\"), \"w\") \n",
    "f.write(string_final)\n",
    "f.close()"
   ]
  },
  {
   "cell_type": "markdown",
   "id": "e5fc20a3",
   "metadata": {},
   "source": [
    "# Geração de tabelas - Tabela unificada"
   ]
  },
  {
   "cell_type": "code",
   "execution_count": 6,
   "id": "cea8e3bb",
   "metadata": {},
   "outputs": [],
   "source": [
    "#comp_metric = \"NDCG@10\"\n",
    "\n",
    "f = open(os.path.join(results_path, \"saida_tabela_unificada.txt\"), \"w\")\n",
    "\n",
    "for comp_metric in saida.columns[3:]:\n",
    "\n",
    "    #Seleciona apenas a metrica relevante\n",
    "    df_aux = saida.loc[:, [\"Dataset\", \"Recommender\", comp_metric]].copy()\n",
    "\n",
    "    #Separa a coluna de recomendadores em dois\n",
    "    df_aux[['Embedding', 'Recommender']]= df_aux['Recommender'].str.split('_', expand=True)\n",
    "\n",
    "    #Preenche os valores nulos\n",
    "    df_aux['Recommender'] = np.where(df_aux['Recommender'].isna() , df_aux['Embedding'], df_aux['Recommender'])\n",
    "\n",
    "    df_pivot = df_aux.pivot(index='Dataset', columns=['Embedding', 'Recommender'], values=comp_metric)\n",
    "    df_pivot = df_pivot.reset_index()\n",
    "\n",
    "    tabela_latex = (df_pivot.style.hide(axis=\"index\")\n",
    "                    .to_latex(column_format='lllllllll', \n",
    "                              multicol_align='l',\n",
    "                              hrules='True',\n",
    "                              position_float='centering',\n",
    "                              caption=\"Comparação de diversos métodos sob \" + comp_metric))\n",
    "\n",
    "    tabela_latex = tabela_latex.replace(\"\\\\begin{tabular}\", \"\\\\resizebox{\\\\textwidth} {!}{ \\\\begin{tabular}\")\n",
    "    tabela_latex = tabela_latex.replace(\"\\\\end{tabular}\", \"\\\\end{tabular} }\")\n",
    "\n",
    "    #display(df_pivot)\n",
    "    #print(tabela_latex)\n",
    "\n",
    "    results_path = \"latex_results\"\n",
    "\n",
    "    if not os.path.exists(results_path):\n",
    "        os.makedirs(results_path)\n",
    "\n",
    "    f.write(\"\\n\\n\\n------------------  \" + \"MÉTRICA: \" + comp_metric + \" ------------------\\n\\n\\n\")\n",
    "    f.write(tabela_latex)\n",
    "    \n",
    "    \n",
    "f.close()"
   ]
  }
 ],
 "metadata": {
  "kernelspec": {
   "display_name": "Python 3 (ipykernel)",
   "language": "python",
   "name": "python3"
  },
  "language_info": {
   "codemirror_mode": {
    "name": "ipython",
    "version": 3
   },
   "file_extension": ".py",
   "mimetype": "text/x-python",
   "name": "python",
   "nbconvert_exporter": "python",
   "pygments_lexer": "ipython3",
   "version": "3.8.16"
  }
 },
 "nbformat": 4,
 "nbformat_minor": 5
}
