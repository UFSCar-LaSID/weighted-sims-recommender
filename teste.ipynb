{
 "cells": [
  {
   "cell_type": "code",
   "execution_count": 4,
   "metadata": {},
   "outputs": [
    {
     "name": "stdout",
     "output_type": "stream",
     "text": [
      "Duração total: 3 dias, 18 horas e 0 minutos\n"
     ]
    }
   ],
   "source": [
    "qtd_folds = 5\n",
    "duracao_experimento_mins = 10\n",
    "qtd_comb_hipers_als = 27\n",
    "qtd_comb_hipers_bpr = 81\n",
    "\n",
    "duracao_total_minutos = (((qtd_comb_hipers_als + qtd_comb_hipers_bpr) * qtd_folds) * duracao_experimento_mins)\n",
    "\n",
    "print(f'Duração total: {duracao_total_minutos // (60 * 24)} dias, {(duracao_total_minutos // 60) % 24} horas e {duracao_total_minutos % 60} minutos')"
   ]
  }
 ],
 "metadata": {
  "kernelspec": {
   "display_name": "base",
   "language": "python",
   "name": "python3"
  },
  "language_info": {
   "codemirror_mode": {
    "name": "ipython",
    "version": 3
   },
   "file_extension": ".py",
   "mimetype": "text/x-python",
   "name": "python",
   "nbconvert_exporter": "python",
   "pygments_lexer": "ipython3",
   "version": "3.8.8"
  },
  "orig_nbformat": 4
 },
 "nbformat": 4,
 "nbformat_minor": 2
}
